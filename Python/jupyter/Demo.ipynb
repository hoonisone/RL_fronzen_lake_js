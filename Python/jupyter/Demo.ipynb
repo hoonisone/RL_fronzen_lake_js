{
 "cells": [
  {
   "cell_type": "code",
   "execution_count": 8,
   "id": "50b17b84",
   "metadata": {},
   "outputs": [],
   "source": [
    "import import_ipynb\n",
    "import Model\n",
    "import Env\n",
    "import Agent\n",
    "import random\n",
    "import tqdm\n",
    "import matplotlib.pyplot as plt\n",
    "import numpy as np"
   ]
  },
  {
   "cell_type": "code",
   "execution_count": 2,
   "id": "165dd8de",
   "metadata": {},
   "outputs": [],
   "source": [
    "def get_test_env():\n",
    "#     return Env.FrozenLake(map_size = 5, frozen_ratio = 0.9, random_next_probability = 0.1)\n",
    "    return Env.ChangingFrozenLake(\"5x5\")\n",
    "\n",
    "def get_test_agent(env, use_forget = False):\n",
    "    agent = Agent.Agent(env.get_states(), env.get_actions())\n",
    "    agent.use_forget = use_forget\n",
    "    return agent\n"
   ]
  },
  {
   "cell_type": "code",
   "execution_count": 16,
   "id": "aad3a45d",
   "metadata": {},
   "outputs": [],
   "source": [
    "class Demo:\n",
    "    def __init__(self, use_forget):\n",
    "        self.env = get_test_env()\n",
    "        self.agent = get_test_agent(self.env, use_forget)\n",
    "        self.agent.start(0)\n",
    "        \n",
    "    def one_step(self):\n",
    "            if self.agent.finished:\n",
    "                self.agent.start(0)\n",
    "            else:\n",
    "                state, reward, done = self.env.step(self.agent.past_state, self.agent.past_action)\n",
    "                if done == True:\n",
    "                    self.agent.step(reward, state, True)\n",
    "                    return True\n",
    "                else:\n",
    "                    self.agent.step(reward, state, False)\n",
    "                    return False\n",
    "                \n",
    "    def one_episode(self):\n",
    "        while True:\n",
    "            if self.one_step() == True:\n",
    "                result = {\"step_num\":self.agent.latest_step}\n",
    "                return result\n",
    "\n",
    "    def one_test(self, map_iter = 1):\n",
    "        self.env.start_map()\n",
    "        test_result = []\n",
    "        # for c in range(demo.env.map_num):\n",
    "        for c in range(1):\n",
    "            for i in range(map_iter):\n",
    "                result = self.one_episode()\n",
    "                test_result.append(result)\n",
    "            self.env.next_map()\n",
    "        return test_result\n",
    "    \n",
    "    def repeat_test(self, test_num):\n",
    "        return [self.one_test() for i in tqdm.tqdm(range(test_num))]\n",
    "    \n",
    "    def test(self):\n",
    "        return self.repeat_test(10)\n",
    "            "
   ]
  },
  {
   "cell_type": "code",
   "execution_count": null,
   "id": "eb096da0",
   "metadata": {},
   "outputs": [
    {
     "name": "stderr",
     "output_type": "stream",
     "text": [
      " 90%|█████████████████████████████████████████████████████████████████████████▊        | 9/10 [31:16<04:44, 284.46s/it]"
     ]
    }
   ],
   "source": [
    "# demo = Demo(use_forget = False)\n",
    "# result = demo.test()"
   ]
  },
  {
   "cell_type": "code",
   "execution_count": null,
   "id": "0961d5e8",
   "metadata": {},
   "outputs": [],
   "source": []
  },
  {
   "cell_type": "code",
   "execution_count": null,
   "id": "9c16fbaa",
   "metadata": {},
   "outputs": [],
   "source": [
    "# data = np.array([[episode[\"step_num\"] for episode in test]for test in result])\n",
    "# mean_action_step = data.mean(axis=0)\n",
    "# plt.plot(mean_action_step)"
   ]
  },
  {
   "cell_type": "code",
   "execution_count": null,
   "id": "32ef6c3e",
   "metadata": {},
   "outputs": [],
   "source": [
    "# demo = Demo(use_forget = True)\n",
    "# result = demo.test()\n",
    "# data = np.array([[episode[\"step_num\"] for episode in test]for test in result])\n",
    "# mean_action_step = data.mean(axis=0)\n",
    "# plt.plot(mean_action_step)"
   ]
  },
  {
   "cell_type": "code",
   "execution_count": null,
   "id": "2f7888b6",
   "metadata": {},
   "outputs": [],
   "source": [
    "# from multiprocessing import Process "
   ]
  },
  {
   "cell_type": "code",
   "execution_count": null,
   "id": "d249dfa5",
   "metadata": {},
   "outputs": [],
   "source": []
  }
 ],
 "metadata": {
  "kernelspec": {
   "display_name": "Python 3 (ipykernel)",
   "language": "python",
   "name": "python3"
  },
  "language_info": {
   "codemirror_mode": {
    "name": "ipython",
    "version": 3
   },
   "file_extension": ".py",
   "mimetype": "text/x-python",
   "name": "python",
   "nbconvert_exporter": "python",
   "pygments_lexer": "ipython3",
   "version": "3.10.9"
  }
 },
 "nbformat": 4,
 "nbformat_minor": 5
}

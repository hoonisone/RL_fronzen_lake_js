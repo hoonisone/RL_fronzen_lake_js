{
 "cells": [
  {
   "cell_type": "code",
   "execution_count": 1,
   "id": "bd01e952",
   "metadata": {},
   "outputs": [
    {
     "name": "stdout",
     "output_type": "stream",
     "text": [
      "importing Jupyter notebook from Model.ipynb\n",
      "importing Jupyter notebook from util.ipynb\n",
      "True\n",
      "importing Jupyter notebook from Env.ipynb\n",
      "importing Jupyter notebook from Agent.ipynb\n",
      "importing Jupyter notebook from Policy.ipynb\n"
     ]
    }
   ],
   "source": [
    "import import_ipynb\n",
    "import Model\n",
    "import Env\n",
    "import Agent\n",
    "import random\n",
    "import tqdm\n",
    "import matplotlib.pyplot as plt\n",
    "import numpy as np"
   ]
  },
  {
   "cell_type": "code",
   "execution_count": 2,
   "id": "aff90fa6",
   "metadata": {},
   "outputs": [],
   "source": [
    "def get_test_env():\n",
    "#     return Env.FrozenLake(map_size = 5, frozen_ratio = 0.9, random_next_probability = 0.1)\n",
    "    return Env.ChangingFrozenLake(\"5x5\")\n",
    "\n",
    "def get_test_agent(env, use_forget = False):\n",
    "    agent = Agent.Agent(env.get_states(), env.get_actions())\n",
    "    agent.use_forget = use_forget\n",
    "    return agent\n"
   ]
  },
  {
   "cell_type": "code",
   "execution_count": 3,
   "id": "620234ba",
   "metadata": {},
   "outputs": [],
   "source": [
    "class Demo:\n",
    "    def __init__(self, use_forget):\n",
    "        self.env = get_test_env()\n",
    "        self.agent = get_test_agent(self.env, use_forget)\n",
    "        self.agent.start(0)\n",
    "        \n",
    "    def one_step(self):\n",
    "            if self.agent.finished:\n",
    "                self.agent.start(0)\n",
    "            else:\n",
    "                state, reward, done = self.env.step(self.agent.past_state, self.agent.past_action)\n",
    "                if done == True:\n",
    "                    self.agent.step(reward, state, True)\n",
    "                    return True\n",
    "                else:\n",
    "                    self.agent.step(reward, state, False)\n",
    "                    return False\n",
    "                \n",
    "    def one_episode(self):\n",
    "        while True:\n",
    "            if demo.one_step() == True:\n",
    "                result = {\"step_num\":demo.agent.latest_step}\n",
    "                return result\n",
    "\n",
    "    def one_test(self, map_iter = 30):\n",
    "        demo.env.start_map()\n",
    "        test_result = []\n",
    "        for c in range(demo.env.map_num):\n",
    "            for i in range(map_iter):\n",
    "                result = demo.one_episode()\n",
    "                test_result.append(result)\n",
    "            self.env.next_map()\n",
    "        return test_result\n",
    "    \n",
    "    def repeat_test(self, test_num):\n",
    "        return [self.one_test() for i in tqdm.tqdm(range(test_num))]\n",
    "    \n",
    "    def test(self):\n",
    "        return self.repeat_test(10)\n",
    "            "
   ]
  },
  {
   "cell_type": "code",
   "execution_count": null,
   "id": "76857c71",
   "metadata": {},
   "outputs": [],
   "source": [
    "demo = Demo(use_forget = False)\n",
    "result = demo.test()"
   ]
  },
  {
   "cell_type": "code",
   "execution_count": 5,
   "id": "6bb4933a",
   "metadata": {},
   "outputs": [],
   "source": [
    "from multiprocessing import Process \n"
   ]
  },
  {
   "cell_type": "code",
   "execution_count": 10,
   "id": "c275af11",
   "metadata": {},
   "outputs": [],
   "source": [
    "def f():\n",
    "    for i in range(1000000):\n",
    "        print(i)\n",
    "\n",
    "if __name__ == '__main__':\n",
    "    p0 = Process(target=f)\n",
    "    p0.start()"
   ]
  },
  {
   "cell_type": "code",
   "execution_count": null,
   "id": "3db4f4b8",
   "metadata": {},
   "outputs": [],
   "source": []
  },
  {
   "cell_type": "code",
   "execution_count": null,
   "id": "f34bdf14",
   "metadata": {},
   "outputs": [],
   "source": []
  },
  {
   "cell_type": "code",
   "execution_count": null,
   "id": "c0cb24a4",
   "metadata": {},
   "outputs": [],
   "source": []
  }
 ],
 "metadata": {
  "kernelspec": {
   "display_name": "Python 3 (ipykernel)",
   "language": "python",
   "name": "python3"
  },
  "language_info": {
   "codemirror_mode": {
    "name": "ipython",
    "version": 3
   },
   "file_extension": ".py",
   "mimetype": "text/x-python",
   "name": "python",
   "nbconvert_exporter": "python",
   "pygments_lexer": "ipython3",
   "version": "3.10.9"
  }
 },
 "nbformat": 4,
 "nbformat_minor": 5
}

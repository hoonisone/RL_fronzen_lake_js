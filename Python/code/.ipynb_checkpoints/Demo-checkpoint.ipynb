{
 "cells": [
  {
   "cell_type": "code",
   "execution_count": 8,
   "id": "50b17b84",
   "metadata": {},
   "outputs": [],
   "source": [
    "import import_ipynb\n",
    "import Model\n",
    "import Env\n",
    "import Agent\n",
    "import random\n",
    "import tqdm\n",
    "import matplotlib.pyplot as plt\n",
    "import numpy as np"
   ]
  },
  {
   "cell_type": "code",
   "execution_count": 2,
   "id": "165dd8de",
   "metadata": {},
   "outputs": [],
   "source": [
    "def get_test_env():\n",
    "#     return Env.FrozenLake(map_size = 5, frozen_ratio = 0.9, random_next_probability = 0.1)\n",
    "    return Env.ChangingFrozenLake(\"5x5\")\n",
    "\n",
    "def get_test_agent(env, use_forget = False):\n",
    "    agent = Agent.Agent(env.get_states(), env.get_actions())\n",
    "    agent.use_forget = use_forget\n",
    "    return agent\n"
   ]
  },
  {
   "cell_type": "code",
   "execution_count": 3,
   "id": "aad3a45d",
   "metadata": {},
   "outputs": [],
   "source": [
    "class Demo:\n",
    "    def __init__(self, use_forget):\n",
    "        self.env = get_test_env()\n",
    "        self.agent = get_test_agent(self.env, use_forget)\n",
    "        self.agent.start(0)\n",
    "        \n",
    "    def one_step(self):\n",
    "            if self.agent.finished:\n",
    "                self.agent.start(0)\n",
    "            else:\n",
    "                state, reward, done = self.env.step(self.agent.past_state, self.agent.past_action)\n",
    "                if done == True:\n",
    "                    self.agent.step(reward, state, True)\n",
    "                    return True\n",
    "                else:\n",
    "                    self.agent.step(reward, state, False)\n",
    "                    return False\n",
    "                \n",
    "    def one_episode(self):\n",
    "        while True:\n",
    "            if demo.one_step() == True:\n",
    "                result = {\"step_num\":demo.agent.latest_step}\n",
    "                return result\n",
    "\n",
    "    def one_test(self, map_iter = 30):\n",
    "        demo.env.start_map()\n",
    "        test_result = []\n",
    "        for c in range(demo.env.map_num):\n",
    "            for i in range(map_iter):\n",
    "                result = demo.one_episode()\n",
    "                test_result.append(result)\n",
    "            self.env.next_map()\n",
    "        return test_result\n",
    "    \n",
    "    def repeat_test(self, test_num):\n",
    "        return [self.one_test() for i in tqdm.tqdm(range(test_num))]\n",
    "    \n",
    "    def test(self):\n",
    "        return self.repeat_test(10)\n",
    "            "
   ]
  },
  {
   "cell_type": "code",
   "execution_count": 4,
   "id": "eb096da0",
   "metadata": {},
   "outputs": [
    {
     "name": "stderr",
     "output_type": "stream",
     "text": [
      "100%|██████████████████████████████████████████████████████████████████████████████████| 10/10 [00:44<00:00,  4.46s/it]\n"
     ]
    }
   ],
   "source": [
    "demo = Demo(use_forget = False)\n",
    "result = demo.test()"
   ]
  },
  {
   "cell_type": "code",
   "execution_count": 15,
   "id": "c3980954",
   "metadata": {},
   "outputs": [
    {
     "data": {
      "text/plain": [
       "array([17.1, 45.3, 56.6, 51.2, 40.8, 46.9, 61.4])"
      ]
     },
     "execution_count": 15,
     "metadata": {},
     "output_type": "execute_result"
    }
   ],
   "source": [
    "data = np.array([[episode[\"step_num\"] for episode in test]for test in result])\n",
    "data.mean(axis=0)"
   ]
  },
  {
   "cell_type": "code",
   "execution_count": null,
   "id": "297ed4ba",
   "metadata": {},
   "outputs": [],
   "source": [
    "data = [result[\"step_num\"] for result in result_list]\n",
    "plt.plot(data)"
   ]
  },
  {
   "cell_type": "code",
   "execution_count": 5,
   "id": "32ef6c3e",
   "metadata": {},
   "outputs": [
    {
     "name": "stderr",
     "output_type": "stream",
     "text": [
      "\r",
      "  0%|                                                                                            | 0/7 [00:00<?, ?it/s]"
     ]
    },
    {
     "name": "stdout",
     "output_type": "stream",
     "text": [
      "forget\n",
      "forget\n",
      "forget\n"
     ]
    },
    {
     "name": "stderr",
     "output_type": "stream",
     "text": [
      " 29%|████████████████████████                                                            | 2/7 [00:08<00:19,  3.89s/it]"
     ]
    },
    {
     "name": "stdout",
     "output_type": "stream",
     "text": [
      "forget 0.2\n",
      "forget 0.2\n",
      "forget 0.2\n",
      "forget 0.2\n",
      "forget 0.2\n"
     ]
    },
    {
     "name": "stderr",
     "output_type": "stream",
     "text": [
      "\r",
      " 43%|████████████████████████████████████                                                | 3/7 [00:12<00:16,  4.17s/it]"
     ]
    },
    {
     "name": "stdout",
     "output_type": "stream",
     "text": [
      "forget 0.2\n",
      "forget 0.2\n",
      "forget 0.2\n",
      "forget 0.2\n",
      "forget 0.2\n",
      "forget 0.2\n",
      "forget 0.2\n",
      "forget 0.2\n",
      "forget 0.2\n"
     ]
    },
    {
     "name": "stderr",
     "output_type": "stream",
     "text": [
      "\r",
      " 57%|████████████████████████████████████████████████                                    | 4/7 [00:17<00:13,  4.36s/it]"
     ]
    },
    {
     "name": "stdout",
     "output_type": "stream",
     "text": [
      "forget 0.2\n",
      "forget 0.2\n",
      "forget 0.2\n",
      "forget 0.2\n",
      "forget 0.2\n",
      "forget 0.2\n",
      "forget\n",
      "forget 0.2\n",
      "forget 0.2\n",
      "forget 0.2\n",
      "forget\n",
      "forget\n",
      "forget\n",
      "forget\n",
      "forget\n",
      "forget 0.2\n",
      "forget 0.2\n",
      "forget\n",
      "forget\n",
      "forget\n",
      "forget\n",
      "forget\n",
      "forget\n",
      "forget\n",
      "forget\n",
      "forget\n",
      "forget 0.2\n",
      "forget 0.2\n",
      "forget 0.2\n",
      "forget 0.2\n",
      "forget 0.2\n",
      "forget 0.2\n",
      "forget 0.2\n",
      "forget 0.2\n",
      "forget 0.2\n",
      "forget 0.2\n",
      "forget 0.2\n",
      "forget 0.2\n"
     ]
    },
    {
     "name": "stderr",
     "output_type": "stream",
     "text": [
      "\r",
      " 71%|████████████████████████████████████████████████████████████                        | 5/7 [00:34<00:18,  9.00s/it]"
     ]
    },
    {
     "name": "stdout",
     "output_type": "stream",
     "text": [
      "forget 0.2\n",
      "forget 0.2\n",
      "forget 0.2\n",
      "forget 0.2\n",
      "forget 0.2\n",
      "forget 0.2\n",
      "forget 0.2\n",
      "forget 0.2\n",
      "forget 0.2\n",
      "forget 0.2\n",
      "forget 0.2\n",
      "forget 0.2\n",
      "forget 0.2\n",
      "forget 0.2\n",
      "forget 0.2\n",
      "forget 0.2\n",
      "forget 0.2\n",
      "forget 0.2\n",
      "forget 0.2\n",
      "forget 0.2\n",
      "forget 0.2\n",
      "forget 0.2\n",
      "forget 0.2\n",
      "forget 0.2\n",
      "forget 0.2\n",
      "forget 0.2\n",
      "forget 0.2\n",
      "forget 0.2\n",
      "forget 0.2\n",
      "forget 0.2\n",
      "forget 0.2\n",
      "forget 0.2\n"
     ]
    },
    {
     "name": "stderr",
     "output_type": "stream",
     "text": [
      "\r",
      " 86%|████████████████████████████████████████████████████████████████████████            | 6/7 [00:40<00:07,  7.99s/it]"
     ]
    },
    {
     "name": "stdout",
     "output_type": "stream",
     "text": [
      "forget 0.2\n",
      "forget 0.2\n",
      "forget 0.2\n",
      "forget 0.2\n",
      "forget 0.2\n",
      "forget 0.2\n",
      "forget\n",
      "forget\n",
      "forget\n",
      "forget 0.2\n",
      "forget 0.2\n",
      "forget 0.2\n",
      "forget 0.2\n",
      "forget 0.2\n",
      "forget\n",
      "forget\n",
      "forget\n",
      "forget\n",
      "forget 0.2\n",
      "forget 0.2\n",
      "forget 0.2\n",
      "forget 0.2\n",
      "forget 0.2\n",
      "forget 0.2\n",
      "forget 0.2\n",
      "forget 0.2\n",
      "forget 0.2\n"
     ]
    },
    {
     "name": "stderr",
     "output_type": "stream",
     "text": [
      "100%|████████████████████████████████████████████████████████████████████████████████████| 7/7 [00:47<00:00,  6.80s/it]\n"
     ]
    },
    {
     "data": {
      "text/plain": [
       "[<matplotlib.lines.Line2D at 0x207ba3094e0>]"
      ]
     },
     "execution_count": 5,
     "metadata": {},
     "output_type": "execute_result"
    },
    {
     "data": {
      "image/png": "[encoded data removed]",
      "text/plain": [
       "<Figure size 640x480 with 1 Axes>"
      ]
     },
     "metadata": {},
     "output_type": "display_data"
    }
   ],
   "source": [
    "demo = Demo(use_forget = True)\n",
    "result_list = []\n",
    "for c in tqdm.tqdm(range(demo.env.map_num)):\n",
    "    for i in range(30):\n",
    "        result = demo.one_episode()\n",
    "        result_list.append(result)\n",
    "    demo.env.next_map()\n",
    "\n",
    "data = [result[\"step_num\"] for result in result_list]\n",
    "plt.plot(data)"
   ]
  },
  {
   "cell_type": "code",
   "execution_count": 18,
   "id": "2f7888b6",
   "metadata": {},
   "outputs": [
    {
     "data": {
      "text/plain": [
       "[<matplotlib.lines.Line2D at 0x1e7cfb3d510>]"
      ]
     },
     "execution_count": 18,
     "metadata": {},
     "output_type": "execute_result"
    },
    {
     "data": {
      "image/png": "[encoded data removed]",
      "text/plain": [
       "<Figure size 640x480 with 1 Axes>"
      ]
     },
     "metadata": {},
     "output_type": "display_data"
    }
   ],
   "source": [
    "\n",
    "\n",
    "\n"
   ]
  },
  {
   "cell_type": "code",
   "execution_count": null,
   "id": "e933a9d3",
   "metadata": {},
   "outputs": [],
   "source": []
  },
  {
   "cell_type": "code",
   "execution_count": 2,
   "id": "0d251264",
   "metadata": {},
   "outputs": [
    {
     "data": {
      "text/plain": [
       "<Env.ChangingFrozenLake at 0x19bd46ff400>"
      ]
     },
     "execution_count": 2,
     "metadata": {},
     "output_type": "execute_result"
    }
   ],
   "source": []
  },
  {
   "cell_type": "code",
   "execution_count": null,
   "id": "2fe4f647",
   "metadata": {},
   "outputs": [],
   "source": []
  }
 ],
 "metadata": {
  "kernelspec": {
   "display_name": "Python 3 (ipykernel)",
   "language": "python",
   "name": "python3"
  },
  "language_info": {
   "codemirror_mode": {
    "name": "ipython",
    "version": 3
   },
   "file_extension": ".py",
   "mimetype": "text/x-python",
   "name": "python",
   "nbconvert_exporter": "python",
   "pygments_lexer": "ipython3",
   "version": "3.10.9"
  }
 },
 "nbformat": 4,
 "nbformat_minor": 5
}

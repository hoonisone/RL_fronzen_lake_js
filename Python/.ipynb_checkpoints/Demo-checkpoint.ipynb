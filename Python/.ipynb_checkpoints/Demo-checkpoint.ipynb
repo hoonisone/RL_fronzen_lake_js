{
 "cells": [
  {
   "cell_type": "code",
   "execution_count": 3,
   "id": "50b17b84",
   "metadata": {},
   "outputs": [],
   "source": [
    "import import_ipynb\n",
    "import Model\n",
    "import Env\n",
    "import Agent\n",
    "import random"
   ]
  },
  {
   "cell_type": "code",
   "execution_count": 4,
   "id": "aad3a45d",
   "metadata": {},
   "outputs": [
    {
     "name": "stdout",
     "output_type": "stream",
     "text": [
      "10 30\n"
     ]
    },
    {
     "ename": "NameError",
     "evalue": "name 'random' is not defined",
     "output_type": "error",
     "traceback": [
      "\u001b[1;31m---------------------------------------------------------------------------\u001b[0m",
      "\u001b[1;31mNameError\u001b[0m                                 Traceback (most recent call last)",
      "Cell \u001b[1;32mIn[4], line 20\u001b[0m\n\u001b[0;32m     17\u001b[0m                     \u001b[38;5;28mself\u001b[39m\u001b[38;5;241m.\u001b[39magent\u001b[38;5;241m.\u001b[39mstep(reward, state, false)\n\u001b[0;32m     18\u001b[0m                     \u001b[38;5;28;01mreturn\u001b[39;00m false\n\u001b[1;32m---> 20\u001b[0m demo \u001b[38;5;241m=\u001b[39m \u001b[43mDemo\u001b[49m\u001b[43m(\u001b[49m\u001b[43m)\u001b[49m\n\u001b[0;32m     21\u001b[0m \u001b[38;5;28mprint\u001b[39m(\u001b[38;5;124m\"\u001b[39m\u001b[38;5;124m성공\u001b[39m\u001b[38;5;124m\"\u001b[39m)\n\u001b[0;32m     22\u001b[0m \u001b[38;5;28;01mwhile\u001b[39;00m \u001b[38;5;28;01mTrue\u001b[39;00m:\n",
      "Cell \u001b[1;32mIn[4], line 5\u001b[0m, in \u001b[0;36mDemo.__init__\u001b[1;34m(self)\u001b[0m\n\u001b[0;32m      3\u001b[0m \u001b[38;5;28mself\u001b[39m\u001b[38;5;241m.\u001b[39menv \u001b[38;5;241m=\u001b[39m Env\u001b[38;5;241m.\u001b[39mFrozenLake(map_size \u001b[38;5;241m=\u001b[39m \u001b[38;5;241m5\u001b[39m, frozen_ratio \u001b[38;5;241m=\u001b[39m \u001b[38;5;241m0.1\u001b[39m, random_next_probability \u001b[38;5;241m=\u001b[39m \u001b[38;5;241m0.1\u001b[39m)\n\u001b[0;32m      4\u001b[0m \u001b[38;5;28mself\u001b[39m\u001b[38;5;241m.\u001b[39magent \u001b[38;5;241m=\u001b[39m Agent\u001b[38;5;241m.\u001b[39mAgent(\u001b[38;5;28mself\u001b[39m\u001b[38;5;241m.\u001b[39menv\u001b[38;5;241m.\u001b[39mget_states(), \u001b[38;5;28mself\u001b[39m\u001b[38;5;241m.\u001b[39menv\u001b[38;5;241m.\u001b[39mget_actions())\n\u001b[1;32m----> 5\u001b[0m \u001b[38;5;28;43mself\u001b[39;49m\u001b[38;5;241;43m.\u001b[39;49m\u001b[43magent\u001b[49m\u001b[38;5;241;43m.\u001b[39;49m\u001b[43mstart\u001b[49m\u001b[43m(\u001b[49m\u001b[38;5;241;43m0\u001b[39;49m\u001b[43m)\u001b[49m\n",
      "File \u001b[1;32m<string>:92\u001b[0m, in \u001b[0;36mstart\u001b[1;34m(self, state)\u001b[0m\n",
      "File \u001b[1;32m<string>:196\u001b[0m, in \u001b[0;36mchoose_action\u001b[1;34m(self, state)\u001b[0m\n",
      "File \u001b[1;32m<string>:97\u001b[0m, in \u001b[0;36mchoose_action\u001b[1;34m(self, actions, q_values, tau)\u001b[0m\n",
      "File \u001b[1;32m<string>:85\u001b[0m, in \u001b[0;36mepsilon_greedy_choose\u001b[1;34m(self, actions, values)\u001b[0m\n",
      "\u001b[1;31mNameError\u001b[0m: name 'random' is not defined"
     ]
    }
   ],
   "source": [
    "class Demo:\n",
    "    def __init__(self):\n",
    "        self.env = Env.FrozenLake(map_size = 5, frozen_ratio = 0.1, random_next_probability = 0.1)\n",
    "        self.agent = Agent.Agent(self.env.get_states(), self.env.get_actions())\n",
    "        self.agent.start(0)\n",
    "\n",
    "    def one_step(self):\n",
    "            if(self.agent.finished):\n",
    "                self.agent.start(0)\n",
    "            else:\n",
    "                state, reward, done = self.env.step(self.agent.past_state, self.agent.past_action)\n",
    "\n",
    "                if (done == true):\n",
    "                    self.agent.step(reward, state, true)\n",
    "                    return true\n",
    "                else:\n",
    "                    self.agent.step(reward, state, false)\n",
    "                    return false\n",
    "                \n",
    "demo = Demo()\n",
    "print(\"성공\")\n",
    "while True:\n",
    "    demo.one_step()"
   ]
  },
  {
   "cell_type": "code",
   "execution_count": null,
   "id": "2f7888b6",
   "metadata": {},
   "outputs": [],
   "source": []
  },
  {
   "cell_type": "code",
   "execution_count": null,
   "id": "e933a9d3",
   "metadata": {},
   "outputs": [],
   "source": []
  },
  {
   "cell_type": "code",
   "execution_count": null,
   "id": "0d251264",
   "metadata": {},
   "outputs": [],
   "source": []
  }
 ],
 "metadata": {
  "kernelspec": {
   "display_name": "Python 3 (ipykernel)",
   "language": "python",
   "name": "python3"
  },
  "language_info": {
   "codemirror_mode": {
    "name": "ipython",
    "version": 3
   },
   "file_extension": ".py",
   "mimetype": "text/x-python",
   "name": "python",
   "nbconvert_exporter": "python",
   "pygments_lexer": "ipython3",
   "version": "3.10.9"
  }
 },
 "nbformat": 4,
 "nbformat_minor": 5
}

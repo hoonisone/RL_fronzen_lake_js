{
 "cells": [
  {
   "cell_type": "code",
   "execution_count": 9,
   "id": "8a6ac322",
   "metadata": {},
   "outputs": [
    {
     "name": "stdout",
     "output_type": "stream",
     "text": [
      "importing Jupyter notebook from util.ipynb\n"
     ]
    }
   ],
   "source": [
    "import import_ipynb\n",
    "import random\n",
    "import numpy as np\n",
    "import util"
   ]
  },
  {
   "cell_type": "code",
   "execution_count": 13,
   "id": "84f45cc3",
   "metadata": {},
   "outputs": [
    {
     "name": "stdout",
     "output_type": "stream",
     "text": [
      "2\n"
     ]
    },
    {
     "data": {
      "text/plain": [
       "3"
      ]
     },
     "execution_count": 13,
     "metadata": {},
     "output_type": "execute_result"
    }
   ],
   "source": [
    "class EnvChangeRatioChecker:\n",
    "    \"\"\"\n",
    "    * 전체 업데이트 횟수 중 변경 사항의 비중을 체크\n",
    "    \"\"\"\n",
    "    def __init__(self, max_buffer_size=1000):\n",
    "        self.buffer = []\n",
    "        self.count = 0\n",
    "        self.max_buffer_size = max_buffer_size\n",
    "\n",
    "    def update(self, changed):\n",
    "        self.count += 1 if changed else 0\n",
    "        self.buffer.append(changed)\n",
    "\n",
    "        if len(self.buffer) > self.max_buffer_size:\n",
    "            self.count -= 1 if self.buffer.pop(0) else 0\n",
    "\n",
    "    def get_ratio(self):\n",
    "        return self.count / len(self.buffer)\n",
    "\n",
    "\n",
    "class PolicyParameterManager:\n",
    "    def __init__(self, initial_epsilon, initial_kappa):\n",
    "        self.min_epsilon = 0.01\n",
    "        self.max_epsilon = 0.30\n",
    "        self._epsilon = initial_epsilon\n",
    "\n",
    "        self.max_kappa = 0.01\n",
    "        self.min_kappa = 0.0001\n",
    "        self._kappa = initial_kappa\n",
    "\n",
    "        self.env_change_checker = EnvChangeRatioChecker(100)\n",
    "\n",
    "    def update(self, env_changed):\n",
    "        self.env_change_checker.update(env_changed)\n",
    "        env_change_ratio = self.env_change_checker.get_ratio()\n",
    "        self._epsilon = max(env_change_ratio ** 0.5 * self.max_epsilon, self.min_epsilon)\n",
    "        self._kappa = max(env_change_ratio * self.max_kappa, self.min_kappa)\n",
    "\n",
    "    @property\n",
    "    def epsilon(self):\n",
    "        return self._epsilon\n",
    "\n",
    "    @epsilon.setter\n",
    "    def epsilon(self, value):\n",
    "        if not self.use_auto_epsilon:\n",
    "            self._epsilon = value\n",
    "\n",
    "    @property\n",
    "    def kappa(self):\n",
    "        return self._kappa\n",
    "\n",
    "    @kappa.setter\n",
    "    def kappa(self, value):\n",
    "        if not self.use_auto_kappa:\n",
    "            self._kappa = value\n",
    "\n",
    "\n",
    "class Policy:\n",
    "    def __init__(self, epsilon=0.05, kappa=0.000, use_auto_epsilon=False, use_auto_kappa=False):\n",
    "        self.epsilon = epsilon\n",
    "        self.kappa = kappa\n",
    "\n",
    "        self.use_auto_epsilon = use_auto_epsilon\n",
    "        self.use_auto_kappa = use_auto_kappa\n",
    "        self.parameter_manager = PolicyParameterManager(epsilon, kappa)\n",
    "\n",
    "#         self.epsilon_auto_change_callback = Callback_1()\n",
    "#         self.kappa_auto_change_callback = Callback_1()\n",
    "\n",
    "    def update_parameter(self, env_changed):\n",
    "        self.parameter_manager.update(env_changed)\n",
    "        if self.use_auto_epsilon:\n",
    "            self.epsilon = self.parameter_manager.epsilon\n",
    "            self.epsilon_auto_change_callback.invoke(self.epsilon)\n",
    "        if self.use_auto_kappa:\n",
    "            self.kappa = self.parameter_manager.kappa\n",
    "            self.kappa_auto_change_callback.invoke(self.kappa)\n",
    "\n",
    "    def greedy_choose(self, actions, values):\n",
    "        max_idx = np.flatnonzero(values == values.max())[0]\n",
    "        return actions[max_idx]\n",
    "\n",
    "    def random_choose(self, actions):\n",
    "        return random.choice(actions)\n",
    "\n",
    "    def epsilon_greedy_choose(self, actions, values):\n",
    "        if random.random() < self.epsilon:\n",
    "            return self.random_choose(actions)\n",
    "        else:\n",
    "            return self.greedy_choose(actions, values)\n",
    "\n",
    "    def recalculate_value(self, q_values, tau):\n",
    "        return q_values+(tau** 0.5)*self.kappa\n",
    "        \n",
    "#         tau_values = [v ** 0.5 for v in tau]\n",
    "#         tau_values = [v * self.kappa for v in tau_values]\n",
    "#         return [q + t for q, t in zip(q_values, tau_values)]\n",
    "\n",
    "    def choose_action(self, actions, q_values, tau):\n",
    "        action_values = self.recalculate_value(q_values, tau)\n",
    "        return self.epsilon_greedy_choose(actions, action_values)\n",
    "\n",
    "class PolicyMode:\n",
    "    Exploitation = \"exploitation\"\n",
    "\n",
    "    \n",
    "p = Policy(epsilon=0.05, kappa=0.000, use_auto_epsilon=False, use_auto_kappa=False)\n",
    "p.choose_action([1, 2, 3], np.array([1, 2, 3]), np.array([3, 4, 5]))\n"
   ]
  },
  {
   "cell_type": "code",
   "execution_count": null,
   "id": "34922f0c",
   "metadata": {},
   "outputs": [],
   "source": []
  },
  {
   "cell_type": "code",
   "execution_count": null,
   "id": "cd5332da",
   "metadata": {},
   "outputs": [],
   "source": []
  },
  {
   "cell_type": "code",
   "execution_count": null,
   "id": "bfd92036",
   "metadata": {},
   "outputs": [],
   "source": []
  }
 ],
 "metadata": {
  "kernelspec": {
   "display_name": "Python 3 (ipykernel)",
   "language": "python",
   "name": "python3"
  },
  "language_info": {
   "codemirror_mode": {
    "name": "ipython",
    "version": 3
   },
   "file_extension": ".py",
   "mimetype": "text/x-python",
   "name": "python",
   "nbconvert_exporter": "python",
   "pygments_lexer": "ipython3",
   "version": "3.10.9"
  }
 },
 "nbformat": 4,
 "nbformat_minor": 5
}

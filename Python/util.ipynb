{
 "cells": [
  {
   "cell_type": "code",
   "execution_count": 2,
   "id": "e7311be3",
   "metadata": {},
   "outputs": [],
   "source": [
    "def create_object_tensor(shape, creator):\n",
    "    length = shape[0]\n",
    "    if len(shape) == 1:\n",
    "        return [creator() for i in range(length)]\n",
    "    else:\n",
    "        shape = shape[1:]\n",
    "        return [create_object_tensor(shape, creator) for i in range(length)]\n",
    "    \n",
    "tensor = create_object_tensor([1, 2, 3], lambda : 1)\n",
    "assert (tensor == [[[1, 1, 1], [1, 1, 1]]])"
   ]
  },
  {
   "cell_type": "code",
   "execution_count": 3,
   "id": "538dc5a4",
   "metadata": {},
   "outputs": [],
   "source": [
    "import numpy as np\n",
    "def near(arr1, arr2, thresh):\n",
    "    arr1 = np.array(arr1)\n",
    "    arr2 = np.array(arr2)\n",
    "    return np.all(np.abs(arr1 - arr2) < thresh)"
   ]
  },
  {
   "cell_type": "code",
   "execution_count": 2,
   "id": "5b863f1d",
   "metadata": {},
   "outputs": [],
   "source": [
    "import heapq\n",
    "\n",
    "class Heap:\n",
    "    def __init__(self):\n",
    "        self.heap = []\n",
    "\n",
    "    def push(self, newValue):\n",
    "        heapq.heappush(self.heap, -newValue)\n",
    "\n",
    "    def pop(self):\n",
    "        return -heapq.heappop(self.heap)\n",
    "\n",
    "    def is_empty(self):\n",
    "        return len(self.heap) == 0\n",
    "\n",
    "    def clear(self):\n",
    "        self.heap = []\n"
   ]
  },
  {
   "cell_type": "code",
   "execution_count": null,
   "id": "62dc06e7",
   "metadata": {},
   "outputs": [],
   "source": []
  }
 ],
 "metadata": {
  "kernelspec": {
   "display_name": "Python 3 (ipykernel)",
   "language": "python",
   "name": "python3"
  },
  "language_info": {
   "codemirror_mode": {
    "name": "ipython",
    "version": 3
   },
   "file_extension": ".py",
   "mimetype": "text/x-python",
   "name": "python",
   "nbconvert_exporter": "python",
   "pygments_lexer": "ipython3",
   "version": "3.10.9"
  }
 },
 "nbformat": 4,
 "nbformat_minor": 5
}

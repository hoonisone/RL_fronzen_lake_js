{
 "cells": [
  {
   "cell_type": "code",
   "execution_count": 1,
   "id": "50b17b84",
   "metadata": {},
   "outputs": [
    {
     "name": "stdout",
     "output_type": "stream",
     "text": [
      "importing Jupyter notebook from Model.ipynb\n",
      "importing Jupyter notebook from util.ipynb\n",
      "True\n",
      "importing Jupyter notebook from Env.ipynb\n",
      "importing Jupyter notebook from Agent.ipynb\n",
      "importing Jupyter notebook from Policy.ipynb\n"
     ]
    }
   ],
   "source": [
    "import import_ipynb\n",
    "import Model\n",
    "import Env\n",
    "import Agent\n",
    "import random"
   ]
  },
  {
   "cell_type": "code",
   "execution_count": 2,
   "id": "aad3a45d",
   "metadata": {},
   "outputs": [
    {
     "name": "stdout",
     "output_type": "stream",
     "text": [
      "0 0\n",
      "5 0\n",
      "0 0\n",
      "0 0\n",
      "0 0\n",
      "5 0\n",
      "5 0\n",
      "5 0\n",
      "6 0\n",
      "6 0\n",
      "6 0\n",
      "5 0\n",
      "6 0\n",
      "7 0\n",
      "7 0\n",
      "12 0\n",
      "7 0\n",
      "6 0\n",
      "6 0\n",
      "7 0\n",
      "7 0\n",
      "12 0\n",
      "12 0\n",
      "12 0\n",
      "12 0\n",
      "12 0\n",
      "7 0\n",
      "7 0\n",
      "7 0\n",
      "7 0\n",
      "7 0\n",
      "12 0\n",
      "17 0\n",
      "12 0\n",
      "12 0\n",
      "17 0\n",
      "17 0\n",
      "17 0\n",
      "18 0\n",
      "18 0\n",
      "23 0\n",
      "18 0\n",
      "17 0\n",
      "18 0\n",
      "18 0\n",
      "23 0\n",
      "23 0\n",
      "23 0\n",
      "24 1\n",
      "[23, 3]\n"
     ]
    }
   ],
   "source": [
    "class Demo:\n",
    "    def __init__(self):\n",
    "        self.env = Env.FrozenLake(map_size = 5, frozen_ratio = 0.1, random_next_probability = 0.1)\n",
    "        self.agent = Agent.Agent(self.env.get_states(), self.env.get_actions())\n",
    "        self.agent.start(0)\n",
    "\n",
    "    def one_step(self):\n",
    "            if self.agent.finished:\n",
    "                self.agent.start(0)\n",
    "            else:\n",
    "                state, reward, done = self.env.step(self.agent.past_state, self.agent.past_action)\n",
    "                print(state, reward)\n",
    "                if done == True:\n",
    "                    self.agent.step(reward, state, True)\n",
    "                    return True\n",
    "                else:\n",
    "                    self.agent.step(reward, state, False)\n",
    "                    return False\n",
    "                \n",
    "demo = Demo()\n",
    "while True:\n",
    "    if demo.one_step() == True:\n",
    "        break"
   ]
  },
  {
   "cell_type": "code",
   "execution_count": null,
   "id": "2f7888b6",
   "metadata": {},
   "outputs": [],
   "source": []
  },
  {
   "cell_type": "code",
   "execution_count": null,
   "id": "e933a9d3",
   "metadata": {},
   "outputs": [],
   "source": []
  },
  {
   "cell_type": "code",
   "execution_count": null,
   "id": "0d251264",
   "metadata": {},
   "outputs": [],
   "source": []
  }
 ],
 "metadata": {
  "kernelspec": {
   "display_name": "Python 3 (ipykernel)",
   "language": "python",
   "name": "python3"
  },
  "language_info": {
   "codemirror_mode": {
    "name": "ipython",
    "version": 3
   },
   "file_extension": ".py",
   "mimetype": "text/x-python",
   "name": "python",
   "nbconvert_exporter": "python",
   "pygments_lexer": "ipython3",
   "version": "3.10.9"
  }
 },
 "nbformat": 4,
 "nbformat_minor": 5
}

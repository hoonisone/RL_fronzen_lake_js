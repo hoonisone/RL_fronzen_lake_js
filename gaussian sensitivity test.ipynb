{
 "cells": [
  {
   "cell_type": "code",
   "execution_count": 7,
   "id": "e7492a9a",
   "metadata": {},
   "outputs": [
    {
     "name": "stdout",
     "output_type": "stream",
     "text": [
      "b                  \n",
      "⌠                  \n",
      "⎮ (3⋅x + sin(x)) dx\n",
      "⌡                  \n",
      "a                  \n"
     ]
    }
   ],
   "source": [
    "import sympy as sy\n",
    "a, b = sy.symbols('a b')\n",
    "x = sy.symbols('x')\n",
    "y = sy.symbols('y')\n",
    "I = sy.Integral(sy.sin(x)+x+2*x,(x,a,b))\n",
    "print(sy.pretty(I))\n"
   ]
  },
  {
   "cell_type": "code",
   "execution_count": 15,
   "id": "e914a2bf",
   "metadata": {},
   "outputs": [
    {
     "data": {
      "text/plain": [
       "7.38905609893065"
      ]
     },
     "execution_count": 15,
     "metadata": {},
     "output_type": "execute_result"
    }
   ],
   "source": [
    "import math\n",
    "math.exp(2)"
   ]
  },
  {
   "cell_type": "code",
   "execution_count": 33,
   "id": "b144ceca",
   "metadata": {},
   "outputs": [
    {
     "data": {
      "text/latex": [
       "$\\displaystyle 0.158655253931457$"
      ],
      "text/plain": [
       "0.158655253931457"
      ]
     },
     "execution_count": 33,
     "metadata": {},
     "output_type": "execute_result"
    }
   ],
   "source": [
    "int_func = sy.integrate(1/((2*math.pi)**(1/2))*sy.exp(-(x**2)/2),x)    #부정적분 생성(적분상수는 0)\n",
    "\n",
    "# 값 넣어 계산\n",
    "\n",
    "\n",
    "def p_value(v):\n",
    "    v = abs(v)\n",
    "    Fb = int_func.subs(x,10).evalf()         \n",
    "    Fa = int_func.subs(x,v).evalf()\n",
    "\n",
    "    return Fb-Fa\n",
    "\n"
   ]
  },
  {
   "cell_type": "code",
   "execution_count": 69,
   "id": "6fb62b5f",
   "metadata": {},
   "outputs": [
    {
     "name": "stdout",
     "output_type": "stream",
     "text": [
      "size: 1\n"
     ]
    },
    {
     "name": "stderr",
     "output_type": "stream",
     "text": [
      "100%|█████████████████████████████████████| 1000/1000 [00:00<00:00, 1032.01it/s]\n"
     ]
    },
    {
     "name": "stdout",
     "output_type": "stream",
     "text": [
      "(0.01): 20\n",
      "(0.03): 59\n",
      "(0.05): 98\n",
      "size: 2\n"
     ]
    },
    {
     "name": "stderr",
     "output_type": "stream",
     "text": [
      "100%|█████████████████████████████████████| 1000/1000 [00:00<00:00, 1070.32it/s]\n"
     ]
    },
    {
     "name": "stdout",
     "output_type": "stream",
     "text": [
      "(0.01): 0\n",
      "(0.03): 10\n",
      "(0.05): 25\n",
      "size: 3\n"
     ]
    },
    {
     "name": "stderr",
     "output_type": "stream",
     "text": [
      "100%|█████████████████████████████████████| 1000/1000 [00:00<00:00, 1080.51it/s]\n"
     ]
    },
    {
     "name": "stdout",
     "output_type": "stream",
     "text": [
      "(0.01): 0\n",
      "(0.03): 1\n",
      "(0.05): 3\n",
      "size: 4\n"
     ]
    },
    {
     "name": "stderr",
     "output_type": "stream",
     "text": [
      "100%|██████████████████████████████████████| 1000/1000 [00:01<00:00, 861.56it/s]\n"
     ]
    },
    {
     "name": "stdout",
     "output_type": "stream",
     "text": [
      "(0.01): 0\n",
      "(0.03): 0\n",
      "(0.05): 0\n",
      "size: 5\n"
     ]
    },
    {
     "name": "stderr",
     "output_type": "stream",
     "text": [
      "100%|█████████████████████████████████████| 1000/1000 [00:00<00:00, 1085.80it/s]"
     ]
    },
    {
     "name": "stdout",
     "output_type": "stream",
     "text": [
      "(0.01): 0\n",
      "(0.03): 0\n",
      "(0.05): 0\n"
     ]
    },
    {
     "name": "stderr",
     "output_type": "stream",
     "text": [
      "\n"
     ]
    }
   ],
   "source": [
    "import random\n",
    "import numpy as np\n",
    "from tqdm import tqdm\n",
    "    \n",
    "def check_sensitivity(m, std, trial, sample_size):\n",
    "    p_values = []\n",
    "    for i in tqdm(range(trial)) :\n",
    "        samples = [random.gauss(m, std**2) for i in range(sample_size)]\n",
    "        mean = np.array(samples).mean()\n",
    "        p_values.append(p_value(mean))\n",
    "    \n",
    "    for h in [0.01, 0.03, 0.05]:\n",
    "        count = list(np.array(p_values) < h).count(True)\n",
    "        print(f\"({h}): {count}\")\n",
    "\n",
    "for sample_size in range(1, 6):\n",
    "    print(f\"size: {sample_size}\")\n",
    "    check_sensitivity(0, 1, 10000, sample_size)"
   ]
  },
  {
   "cell_type": "code",
   "execution_count": 72,
   "id": "22dc3c88",
   "metadata": {},
   "outputs": [
    {
     "name": "stdout",
     "output_type": "stream",
     "text": [
      "size: 1\n"
     ]
    },
    {
     "name": "stderr",
     "output_type": "stream",
     "text": [
      "100%|███████████████████████████████████| 10000/10000 [00:09<00:00, 1024.75it/s]\n"
     ]
    },
    {
     "name": "stdout",
     "output_type": "stream",
     "text": [
      "(0.01): 219\n",
      "(0.03): 617\n",
      "(0.05): 1032\n",
      "size: 2\n"
     ]
    },
    {
     "name": "stderr",
     "output_type": "stream",
     "text": [
      "100%|███████████████████████████████████| 10000/10000 [00:09<00:00, 1066.23it/s]\n"
     ]
    },
    {
     "name": "stdout",
     "output_type": "stream",
     "text": [
      "(0.01): 9\n",
      "(0.03): 109\n",
      "(0.05): 226\n",
      "size: 3\n"
     ]
    },
    {
     "name": "stderr",
     "output_type": "stream",
     "text": [
      "100%|███████████████████████████████████| 10000/10000 [00:09<00:00, 1061.37it/s]\n"
     ]
    },
    {
     "name": "stdout",
     "output_type": "stream",
     "text": [
      "(0.01): 1\n",
      "(0.03): 12\n",
      "(0.05): 46\n",
      "size: 4\n"
     ]
    },
    {
     "name": "stderr",
     "output_type": "stream",
     "text": [
      "100%|███████████████████████████████████| 10000/10000 [00:09<00:00, 1044.51it/s]\n"
     ]
    },
    {
     "name": "stdout",
     "output_type": "stream",
     "text": [
      "(0.01): 0\n",
      "(0.03): 0\n",
      "(0.05): 7\n",
      "size: 5\n"
     ]
    },
    {
     "name": "stderr",
     "output_type": "stream",
     "text": [
      "100%|███████████████████████████████████| 10000/10000 [00:09<00:00, 1063.25it/s]\n"
     ]
    },
    {
     "name": "stdout",
     "output_type": "stream",
     "text": [
      "(0.01): 0\n",
      "(0.03): 0\n",
      "(0.05): 4\n"
     ]
    }
   ],
   "source": [
    "for sample_size in range(1, 6):\n",
    "    print(f\"size: {sample_size}\")\n",
    "    check_sensitivity(0.1, 1, 10000, sample_size)"
   ]
  },
  {
   "cell_type": "code",
   "execution_count": 75,
   "id": "992990e9",
   "metadata": {},
   "outputs": [
    {
     "name": "stdout",
     "output_type": "stream",
     "text": [
      "size: 1\n"
     ]
    },
    {
     "name": "stderr",
     "output_type": "stream",
     "text": [
      "100%|███████████████████████████████████| 10000/10000 [00:09<00:00, 1021.45it/s]\n"
     ]
    },
    {
     "name": "stdout",
     "output_type": "stream",
     "text": [
      "(0.01): 265\n",
      "(0.03): 723\n",
      "(0.05): 1169\n",
      "size: 2\n"
     ]
    },
    {
     "name": "stderr",
     "output_type": "stream",
     "text": [
      "100%|███████████████████████████████████| 10000/10000 [00:09<00:00, 1073.51it/s]\n"
     ]
    },
    {
     "name": "stdout",
     "output_type": "stream",
     "text": [
      "(0.01): 24\n",
      "(0.03): 123\n",
      "(0.05): 298\n",
      "size: 3\n"
     ]
    },
    {
     "name": "stderr",
     "output_type": "stream",
     "text": [
      "100%|███████████████████████████████████| 10000/10000 [00:09<00:00, 1032.84it/s]\n"
     ]
    },
    {
     "name": "stdout",
     "output_type": "stream",
     "text": [
      "(0.01): 0\n",
      "(0.03): 35\n",
      "(0.05): 90\n",
      "size: 4\n"
     ]
    },
    {
     "name": "stderr",
     "output_type": "stream",
     "text": [
      "100%|███████████████████████████████████| 10000/10000 [00:09<00:00, 1045.38it/s]\n"
     ]
    },
    {
     "name": "stdout",
     "output_type": "stream",
     "text": [
      "(0.01): 1\n",
      "(0.03): 15\n",
      "(0.05): 40\n",
      "size: 5\n"
     ]
    },
    {
     "name": "stderr",
     "output_type": "stream",
     "text": [
      "100%|███████████████████████████████████| 10000/10000 [00:09<00:00, 1057.24it/s]\n"
     ]
    },
    {
     "name": "stdout",
     "output_type": "stream",
     "text": [
      "(0.01): 0\n",
      "(0.03): 0\n",
      "(0.05): 4\n"
     ]
    }
   ],
   "source": [
    "for sample_size in range(1, 6):\n",
    "    print(f\"size: {sample_size}\")\n",
    "    check_sensitivity(0.3, 1, 10000, sample_size)"
   ]
  },
  {
   "cell_type": "code",
   "execution_count": 141,
   "id": "fe667e24",
   "metadata": {},
   "outputs": [
    {
     "name": "stderr",
     "output_type": "stream",
     "text": [
      "100%|███████████████████████████████████| 10000/10000 [00:09<00:00, 1028.73it/s]\n",
      "  2%|▊                                    | 221/10000 [00:00<00:08, 1102.23it/s]"
     ]
    },
    {
     "name": "stdout",
     "output_type": "stream",
     "text": [
      "4 0.0330301055066256\n",
      "5 0.0262539462614019\n",
      "6 0.00653712350980679\n",
      "7 0.00416297952434513\n",
      "8 0.00394785079959953\n",
      "9 0.00277140960590250\n",
      "10 0.00201990414795677\n",
      "11 0.00898492838103210\n",
      "12 0.0121774312004420\n",
      "13 0.0215087180121127\n",
      "14 0.0383322600681907\n",
      "15 0.0369892766924255\n"
     ]
    },
    {
     "name": "stderr",
     "output_type": "stream",
     "text": [
      "100%|███████████████████████████████████| 10000/10000 [00:09<00:00, 1055.66it/s]\n"
     ]
    }
   ],
   "source": [
    "int_func = sy.integrate(1/((2*math.pi)**(1/2))*sy.exp(-(x**2)/2),x)    #부정적분 생성(적분상수는 0)\n",
    "\n",
    "def p_value(v):\n",
    "    v = abs(v)\n",
    "    Fb = int_func.subs(x,10).evalf()         \n",
    "    Fa = int_func.subs(x,v).evalf()\n",
    "\n",
    "    return Fb-Fa\n",
    "\n",
    "class Model:\n",
    "    def __init__(self):\n",
    "        self.mean = 0\n",
    "        self.variance = 1\n",
    "        self.step_size = 0.01\n",
    "        self.short_term_memory = []\n",
    "        self.short_term_memory_max_size = 10\n",
    "    \n",
    "    def update(self, sample):\n",
    "        self.short_term_memory.append(sample)\n",
    "        \n",
    "        if(self.short_term_memory_max_size < len(self.short_term_memory)):\n",
    "            sample = self.short_term_memory[0]\n",
    "            self.variance += self.step_size*((sample-self.mean)**2 - self.variance)\n",
    "            self.mean += self.step_size*(sample-self.mean)\n",
    "            del self.short_term_memory[0] \n",
    "\n",
    "        \n",
    "    def print_distribution(self):\n",
    "        print(self.mean, self.variance)\n",
    "    \n",
    "    def p_value(self, sample):\n",
    "        z = (sample - self.mean)/(self.variance**(1/2))\n",
    "        return p_value(z)\n",
    "    \n",
    "    def short_memory_p_value(self):\n",
    "        sample = np.array(self.short_term_memory).mean()\n",
    "        return self.p_value(sample)\n",
    "    \n",
    "model = Model()\n",
    "for i in tqdm(range(10000)):\n",
    "    sample = random.gauss(0, 0.09)\n",
    "    model.update(sample)\n",
    "    p = model.short_memory_p_value()\n",
    "    if p<0.05:\n",
    "        print(i, p)\n",
    "        \n",
    "for i in tqdm(range(10000)):\n",
    "    sample = random.gauss(0.2, 0.09)\n",
    "    model.update(sample)\n",
    "    p = model.short_memory_p_value()\n",
    "    if p<0.05:\n",
    "        print(i, p)\n",
    "    "
   ]
  },
  {
   "cell_type": "code",
   "execution_count": 139,
   "id": "a9cc32c8",
   "metadata": {},
   "outputs": [
    {
     "data": {
      "text/plain": [
       "0.025819888974716113"
      ]
     },
     "execution_count": 139,
     "metadata": {},
     "output_type": "execute_result"
    }
   ],
   "source": []
  },
  {
   "cell_type": "code",
   "execution_count": null,
   "id": "d9d52294",
   "metadata": {},
   "outputs": [],
   "source": []
  }
 ],
 "metadata": {
  "kernelspec": {
   "display_name": "Python 3 (ipykernel)",
   "language": "python",
   "name": "python3"
  },
  "language_info": {
   "codemirror_mode": {
    "name": "ipython",
    "version": 3
   },
   "file_extension": ".py",
   "mimetype": "text/x-python",
   "name": "python",
   "nbconvert_exporter": "python",
   "pygments_lexer": "ipython3",
   "version": "3.10.4"
  }
 },
 "nbformat": 4,
 "nbformat_minor": 5
}
